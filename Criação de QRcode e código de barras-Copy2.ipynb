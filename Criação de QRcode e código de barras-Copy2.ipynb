{
 "cells": [
  {
   "cell_type": "markdown",
   "id": "61adbf50",
   "metadata": {},
   "source": [
    "Texto explicativo do que vou fazer no meu código"
   ]
  },
  {
   "cell_type": "code",
   "execution_count": 6,
   "id": "27616c86",
   "metadata": {
    "scrolled": true
   },
   "outputs": [
    {
     "data": {
      "text/plain": [
       "'codigo_barra.png'"
      ]
     },
     "execution_count": 6,
     "metadata": {},
     "output_type": "execute_result"
    }
   ],
   "source": [
    "# Para criação do código de barras\n",
    "from barcode import EAN13\n",
    "from barcode.writer import ImageWriter\n",
    "codigo_barra = EAN13 (\"123456789123\", writer=ImageWriter())\n",
    "codigo_barra.save(\"codigo_barra\")"
   ]
  },
  {
   "cell_type": "code",
   "execution_count": 1,
   "id": "e80af239",
   "metadata": {
    "scrolled": true
   },
   "outputs": [
    {
     "ename": "NameError",
     "evalue": "name 'EAN13' is not defined",
     "output_type": "error",
     "traceback": [
      "\u001b[1;31m---------------------------------------------------------------------------\u001b[0m",
      "\u001b[1;31mNameError\u001b[0m                                 Traceback (most recent call last)",
      "\u001b[1;32m<ipython-input-1-58dcd6e62e5d>\u001b[0m in \u001b[0;36m<module>\u001b[1;34m\u001b[0m\n\u001b[0;32m      8\u001b[0m \u001b[1;32mfor\u001b[0m \u001b[0mproduto\u001b[0m \u001b[1;32min\u001b[0m \u001b[0mcodigos_produtos\u001b[0m\u001b[1;33m:\u001b[0m\u001b[1;33m\u001b[0m\u001b[1;33m\u001b[0m\u001b[0m\n\u001b[0;32m      9\u001b[0m     \u001b[0mcodigo\u001b[0m \u001b[1;33m=\u001b[0m \u001b[0mcodigos_produtos\u001b[0m\u001b[1;33m[\u001b[0m\u001b[0mproduto\u001b[0m\u001b[1;33m]\u001b[0m\u001b[1;33m\u001b[0m\u001b[1;33m\u001b[0m\u001b[0m\n\u001b[1;32m---> 10\u001b[1;33m     \u001b[0mcodigo_barra\u001b[0m \u001b[1;33m=\u001b[0m \u001b[0mEAN13\u001b[0m \u001b[1;33m(\u001b[0m\u001b[0mcodigo\u001b[0m\u001b[1;33m,\u001b[0m \u001b[0mwriter\u001b[0m\u001b[1;33m=\u001b[0m\u001b[0mImageWriter\u001b[0m\u001b[1;33m(\u001b[0m\u001b[1;33m)\u001b[0m\u001b[1;33m)\u001b[0m\u001b[1;33m\u001b[0m\u001b[1;33m\u001b[0m\u001b[0m\n\u001b[0m\u001b[0;32m     11\u001b[0m     \u001b[0mcodigo_barra\u001b[0m\u001b[1;33m.\u001b[0m\u001b[0msave\u001b[0m\u001b[1;33m(\u001b[0m\u001b[1;34mf\"codigo_barra_{produto}\"\u001b[0m\u001b[1;33m)\u001b[0m\u001b[1;33m\u001b[0m\u001b[1;33m\u001b[0m\u001b[0m\n",
      "\u001b[1;31mNameError\u001b[0m: name 'EAN13' is not defined"
     ]
    }
   ],
   "source": [
    "# para inserir um controle das rações recebidas\n",
    "codigos_produtos = {\n",
    "    \"Racao A\":\"123456789123\",# código com doze caracteres da ração doada onde o \"A\" é a marca ou tipo\n",
    "    \"Racao B\":\"234567891234\",\n",
    "    \"Racao C\":\"345678912345\",\n",
    "    \"Racao D\":\"456789123456\"}\n",
    "\n",
    "for produto in codigos_produtos:\n",
    "    codigo = codigos_produtos[produto]\n",
    "    codigo_barra = EAN13 (codigo, writer=ImageWriter())\n",
    "    codigo_barra.save(f\"codigo_barra_{produto}\")"
   ]
  },
  {
   "cell_type": "code",
   "execution_count": 23,
   "id": "b65c4568",
   "metadata": {},
   "outputs": [],
   "source": [
    "# Para criação do QRcode\n",
    "import qrcode\n",
    "imagem_qrcode = qrcode.make(\"https://share.streamlit.io/maos-por-patas/movimento/main\")\n",
    "imagem_qrcode.save(\"qrcode_python.png\")"
   ]
  },
  {
   "cell_type": "code",
   "execution_count": null,
   "id": "a9e9a65e",
   "metadata": {},
   "outputs": [],
   "source": []
  }
 ],
 "metadata": {
  "kernelspec": {
   "display_name": "Python 3",
   "language": "python",
   "name": "python3"
  },
  "language_info": {
   "codemirror_mode": {
    "name": "ipython",
    "version": 3
   },
   "file_extension": ".py",
   "mimetype": "text/x-python",
   "name": "python",
   "nbconvert_exporter": "python",
   "pygments_lexer": "ipython3",
   "version": "3.8.8"
  }
 },
 "nbformat": 4,
 "nbformat_minor": 5
}
